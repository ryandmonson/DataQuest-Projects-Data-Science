{
 "cells": [
  {
   "cell_type": "markdown",
   "id": "b59db28d",
   "metadata": {},
   "source": [
    "# <center>Google Play and Apple Music App Purchases - Dec 2022 Version</center>\n",
    "\n",
    "This project is an analysis of free apps obtained from Google Play and Apple.  The analysis answers the following question:\n",
    "\n",
    "- Since we are developing a free app and will rely on advertising for income, which type of free app is most likely to attract users on Google Play and the Apple Store?"
   ]
  },
  {
   "cell_type": "markdown",
   "id": "fc0d8d67",
   "metadata": {},
   "source": [
    "Import Pandas and a sample of free apps from the Apple Store and Google Play"
   ]
  },
  {
   "cell_type": "code",
   "execution_count": 1,
   "id": "654df9a1",
   "metadata": {},
   "outputs": [],
   "source": [
    "import pandas as pd\n",
    "df_apple = pd.read_csv('AppleStore.csv')\n",
    "df_google = pd.read_csv('googleplaystore.csv')"
   ]
  },
  {
   "cell_type": "markdown",
   "id": "5384a1a8",
   "metadata": {},
   "source": [
    "Summary view of the imported data sets"
   ]
  },
  {
   "cell_type": "code",
   "execution_count": null,
   "id": "b8c81050",
   "metadata": {},
   "outputs": [],
   "source": [
    "a = \"APPLE\"\n",
    "print(a.center(80))\n",
    "print('\\n', df_apple.head(3))\n",
    "print('\\n',\"rows and columns\", df_apple.shape)\n",
    "print(2*'\\n')\n",
    "g = \"GOOGLE\"\n",
    "print(g.center(80))\n",
    "print('\\n',df_google.head(3))\n",
    "print('\\n',\"rows and columns\", df_google.shape)"
   ]
  },
  {
   "cell_type": "markdown",
   "id": "ed92e412",
   "metadata": {},
   "source": [
    "Based on review of the documentation for the Apple file (https://www.kaggle.com/datasets/ramamet4/app-store-apple-data-set-10k-apps) and the Google file (https://www.kaggle.com/datasets/lava18/google-play-store-apps) the following column headings may\n",
    "be useful for the analysis:<br><br>\n",
    "<b>APPLE</b><br>\n",
    "\n",
    "- ratings_count_ver: Number of user ratings for current version of app\n",
    "- user_rating_ver: Average user rating for current version of app\n",
    "- prime_genre: Primary genre of the app\n",
    "\n",
    "<b>GOOGLE</b><br>\n",
    "\n",
    "- Category\n",
    "- Reviews\n",
    "- Installs\n",
    "- Genres\n"
   ]
  },
  {
   "cell_type": "markdown",
   "id": "60745b25",
   "metadata": {},
   "source": [
    "### <center>DATA CLEANING</center>"
   ]
  },
  {
   "cell_type": "code",
   "execution_count": null,
   "id": "56f2b1e9",
   "metadata": {},
   "outputs": [],
   "source": [
    "#Per documentation, google row id 10472 is incorrect.  Check this row\n",
    "df_google.loc[10472]"
   ]
  },
  {
   "cell_type": "code",
   "execution_count": null,
   "id": "59354131",
   "metadata": {},
   "outputs": [],
   "source": [
    "#Per project instructions, delete row 10472. Comment out after executing to avoid deleting another row\n",
    "\n",
    "df_google = df_google.drop(labels = 10472, axis=0)\n",
    "\n",
    "#verified row index 10472 has been removed"
   ]
  },
  {
   "cell_type": "markdown",
   "id": "22df649e",
   "metadata": {},
   "source": [
    "Remove duplicate entries using the pandas code in the next two Notebook boxes.  Duplicates are determined\n",
    "by duplicate \"track_name\" in the Apple set, and \"App\" in the Google set.  Kept the entry that contained the\n",
    "most rating reviews, under the assumption that the highest review total is the most recent version of the app."
   ]
  },
  {
   "cell_type": "code",
   "execution_count": null,
   "id": "dcd0be2e",
   "metadata": {},
   "outputs": [],
   "source": [
    "#remove duplicate rows Apple\n",
    "df_apple = df_apple.sort_values(by= \"rating_count_tot\", ascending=False)\n",
    "df_apple = df_apple.drop_duplicates(subset = \"track_name\",keep = \"first\")\n",
    "print(df_apple.shape)"
   ]
  },
  {
   "cell_type": "code",
   "execution_count": null,
   "id": "6782b58e",
   "metadata": {},
   "outputs": [],
   "source": [
    "#remove duplicate rows Google\n",
    "df_google = df_google.sort_values(by= \"Reviews\", ascending=False)\n",
    "df_google = df_google.drop_duplicates(subset = \"App\",keep = \"first\")\n",
    "print(df_google.shape)"
   ]
  },
  {
   "cell_type": "markdown",
   "id": "4dde1335",
   "metadata": {},
   "source": [
    "Next we'll remove non English apps.  if a column \"App\"(Apple) or \"track_name\" (Google) has an entry\n",
    "containing a 3 or more ASCII characters with character value > 127, we'll assume this entry is non English and remove."
   ]
  },
  {
   "cell_type": "code",
   "execution_count": 8,
   "id": "adff2431",
   "metadata": {},
   "outputs": [],
   "source": [
    "df_apple = df_apple.drop(df_apple.loc[df_apple[\"track_name\"]\n",
    "           .apply(lambda x: False if len([i for i in x if ord(i) >127])<=3 else True)].index)   "
   ]
  },
  {
   "cell_type": "code",
   "execution_count": 9,
   "id": "28232715",
   "metadata": {},
   "outputs": [],
   "source": [
    "df_google = df_google.drop(df_google.loc[df_google[\"App\"]\n",
    "            .apply(lambda x: False if len([i for i in x if ord(i) >127])<=3 else True)].index)   "
   ]
  },
  {
   "cell_type": "markdown",
   "id": "0ea9196a",
   "metadata": {},
   "source": [
    "Next isolate the free apps. First get the unique values and data types in the price column, then use that information to drop the non free apps."
   ]
  },
  {
   "cell_type": "code",
   "execution_count": null,
   "id": "f22c4749",
   "metadata": {},
   "outputs": [],
   "source": [
    "#Apple prices and the column data type\n",
    "print(df_apple[\"price\"].unique())\n",
    "print(df_apple[\"price\"].dtypes)"
   ]
  },
  {
   "cell_type": "code",
   "execution_count": null,
   "id": "f4b03491",
   "metadata": {},
   "outputs": [],
   "source": [
    "#Google prices and the column data type\n",
    "print(df_google[\"Price\"].unique())\n",
    "print(df_google[\"Price\"].dtypes)"
   ]
  },
  {
   "cell_type": "code",
   "execution_count": 12,
   "id": "adba4376",
   "metadata": {},
   "outputs": [],
   "source": [
    "#Keep only the free Apple apps\n",
    "df_apple = df_apple.drop(df_apple.loc[df_apple[\"price\"]\n",
    "            .apply(lambda x: False if x == 0 else True)].index)"
   ]
  },
  {
   "cell_type": "code",
   "execution_count": 13,
   "id": "21cbd6d7",
   "metadata": {},
   "outputs": [],
   "source": [
    "#Keep only the free Google apps\n",
    "df_google = df_google.drop(df_google.loc[df_google[\"Price\"]\n",
    "            .apply(lambda x: False if x == '0' else True)].index)"
   ]
  },
  {
   "cell_type": "code",
   "execution_count": null,
   "id": "3d5946b7",
   "metadata": {},
   "outputs": [],
   "source": [
    "#check that only free Google apps left\n",
    "print(df_google[\"Price\"].unique())"
   ]
  },
  {
   "cell_type": "code",
   "execution_count": null,
   "id": "a113bccf",
   "metadata": {},
   "outputs": [],
   "source": [
    "#check that only free Apple apps left\n",
    "print(df_apple[\"price\"].unique())"
   ]
  },
  {
   "cell_type": "markdown",
   "id": "5b8f5eeb",
   "metadata": {},
   "source": [
    "### <center>DATA ANALYSIS</center>"
   ]
  },
  {
   "cell_type": "markdown",
   "id": "8beb645d",
   "metadata": {},
   "source": [
    "Determine the counts  and percentage of total for the types of apps in the datasets "
   ]
  },
  {
   "cell_type": "code",
   "execution_count": null,
   "id": "4071d86b",
   "metadata": {},
   "outputs": [],
   "source": [
    "#Apple app type count and % of total\n",
    "apple_count = pd.DataFrame(df_apple[\"prime_genre\"].value_counts()).rename(columns = {\"prime_genre\": \"App_count\"})\n",
    "apple_count[\"%_of_total\"] = (apple_count/apple_count.sum()*100).round(decimals=1)\n",
    "print(apple_count.head())"
   ]
  },
  {
   "cell_type": "code",
   "execution_count": null,
   "id": "36e243c7",
   "metadata": {},
   "outputs": [],
   "source": [
    "#Google app type count and % of total\n",
    "google_count = pd.DataFrame(df_google[\"Category\"].value_counts()).rename(columns = {\"Category\": \"App_count\"})\n",
    "google_count[\"%_of_total\"] = (google_count/google_count.sum()*100).round(decimals=1)\n",
    "print(google_count.head())"
   ]
  },
  {
   "cell_type": "markdown",
   "id": "e7d0c75f",
   "metadata": {},
   "source": [
    "For Apple apps the Games genre dominates, with 58% of the total apps.  Next closest is Family with 8% of the total.\n",
    "For Google, Family is the largest, with 19% of the total apps.  Games comes next with 9.7%.\n",
    "\n",
    "This only gives the number of apps in the categories; we still need an indication of how popular the apps are.  Google provide number of installs, but only by category (100+, 10,000+, etc.)  Apple does not provide number of installs.  We'll use number of reviews as a proxy for number of installs.  For Google we'll use the numeric portion of the number of installs to estimate the value."
   ]
  },
  {
   "cell_type": "code",
   "execution_count": null,
   "id": "aebb27e1",
   "metadata": {},
   "outputs": [],
   "source": [
    "apple_count[\"total # of reviews\"] = df_apple.groupby(by=\"prime_genre\")[\"rating_count_tot\"].sum()\n",
    "print(apple_count.sort_values(by=\"total # of reviews\", ascending = False).head(10))"
   ]
  },
  {
   "cell_type": "code",
   "execution_count": null,
   "id": "39d53d65",
   "metadata": {},
   "outputs": [],
   "source": [
    "df_google[\"Installs\"]= df_google[\"Installs\"].str.replace(\"[+,]\",\"\").astype(int)\n",
    "google_count[\"total # of installs\"] = df_google.groupby(by=\"Category\")[\"Installs\"].sum()\n",
    "print(google_count.sort_values(by=\"total # of installs\", ascending = False).head(10))"
   ]
  },
  {
   "cell_type": "markdown",
   "id": "9e5d5fe2",
   "metadata": {},
   "source": [
    "### <center>DISCUSSION & CONCLUSION</center>"
   ]
  },
  {
   "cell_type": "markdown",
   "id": "4a736d1b",
   "metadata": {},
   "source": [
    "Games dominates the app count and # of reviews for the Apple store.  GAME is the 2nd highest percentage of app total and has the highest total number of installs on Google. This is a popular but crowded market where it may be difficult to gain any market share.\n",
    "\n",
    "Social networking has the 2nd highest number of reviews in the Apple store but is fourth in app count.  Social networking is popular but is much less crowded than Games.\n",
    "\n",
    "COMMUNICATION is the second most installed app type with Google, ranking fifith in app count. SOCIAL ranks seventh in app count and ranks sixth in installs.\n",
    "\n",
    "Based on this analysis, a social networking app which allows communication between individuals and groups may be our best opportunity.  Further analysis of demographics being served by current social networking apps may guide us to an underserved market, increasing the probability of success."
   ]
  },
  {
   "cell_type": "code",
   "execution_count": null,
   "id": "13e1c8c8",
   "metadata": {},
   "outputs": [],
   "source": []
  }
 ],
 "metadata": {
  "kernelspec": {
   "display_name": "Python 3 (ipykernel)",
   "language": "python",
   "name": "python3"
  },
  "language_info": {
   "codemirror_mode": {
    "name": "ipython",
    "version": 3
   },
   "file_extension": ".py",
   "mimetype": "text/x-python",
   "name": "python",
   "nbconvert_exporter": "python",
   "pygments_lexer": "ipython3",
   "version": "3.9.13"
  }
 },
 "nbformat": 4,
 "nbformat_minor": 5
}
