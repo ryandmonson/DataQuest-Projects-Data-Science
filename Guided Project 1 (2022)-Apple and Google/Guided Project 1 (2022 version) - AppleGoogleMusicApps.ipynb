{
 "cells": [
  {
   "cell_type": "markdown",
   "id": "b59db28d",
   "metadata": {},
   "source": [
    "# <center>Google Play and Apple Music App Purchases - Dec 2022 Version</center>\n",
    "\n",
    "This project is an analysis of free apps obtained from Google Play and Apple.  The analysis answers the following question:\n",
    "\n",
    "- Since we are developing a free app and will rely on advertising for income, which type of free app is most likely to attract users on Google Play and the Apple Store?"
   ]
  },
  {
   "cell_type": "markdown",
   "id": "fc0d8d67",
   "metadata": {},
   "source": [
    "Import Pandas and a sample of free apps from the Apple Store and Google Play"
   ]
  },
  {
   "cell_type": "code",
   "execution_count": 1,
   "id": "654df9a1",
   "metadata": {},
   "outputs": [],
   "source": [
    "import pandas as pd\n",
    "df_apple = pd.read_csv('AppleStore.csv')\n",
    "df_google = pd.read_csv('googleplaystore.csv')"
   ]
  },
  {
   "cell_type": "markdown",
   "id": "5384a1a8",
   "metadata": {},
   "source": [
    "Summary view of the imported data sets"
   ]
  },
  {
   "cell_type": "code",
   "execution_count": 2,
   "id": "b8c81050",
   "metadata": {},
   "outputs": [
    {
     "name": "stdout",
     "output_type": "stream",
     "text": [
      "                                     APPLE                                      \n",
      "\n",
      "           id      track_name  size_bytes currency  price  rating_count_tot  \\\n",
      "0  284882215        Facebook   389879808      USD    0.0           2974676   \n",
      "1  389801252       Instagram   113954816      USD    0.0           2161558   \n",
      "2  529479190  Clash of Clans   116476928      USD    0.0           2130805   \n",
      "\n",
      "   rating_count_ver  user_rating  user_rating_ver      ver cont_rating  \\\n",
      "0               212          3.5              3.5     95.0          4+   \n",
      "1              1289          4.5              4.0    10.23         12+   \n",
      "2               579          4.5              4.5  9.24.12          9+   \n",
      "\n",
      "         prime_genre  sup_devices.num  ipadSc_urls.num  lang.num  vpp_lic  \n",
      "0  Social Networking               37                1        29        1  \n",
      "1      Photo & Video               37                0        29        1  \n",
      "2              Games               38                5        18        1  \n",
      "\n",
      " rows and columns (7197, 16)\n",
      "\n",
      "\n",
      "\n",
      "                                     GOOGLE                                     \n",
      "\n",
      "                                                  App        Category  Rating  \\\n",
      "0     Photo Editor & Candy Camera & Grid & ScrapBook  ART_AND_DESIGN     4.1   \n",
      "1                                Coloring book moana  ART_AND_DESIGN     3.9   \n",
      "2  U Launcher Lite – FREE Live Cool Themes, Hide ...  ART_AND_DESIGN     4.7   \n",
      "\n",
      "  Reviews  Size    Installs  Type Price Content Rating  \\\n",
      "0     159   19M     10,000+  Free     0       Everyone   \n",
      "1     967   14M    500,000+  Free     0       Everyone   \n",
      "2   87510  8.7M  5,000,000+  Free     0       Everyone   \n",
      "\n",
      "                      Genres      Last Updated Current Ver   Android Ver  \n",
      "0               Art & Design   January 7, 2018       1.0.0  4.0.3 and up  \n",
      "1  Art & Design;Pretend Play  January 15, 2018       2.0.0  4.0.3 and up  \n",
      "2               Art & Design    August 1, 2018       1.2.4  4.0.3 and up  \n",
      "\n",
      " rows and columns (10841, 13)\n"
     ]
    }
   ],
   "source": [
    "a = \"APPLE\"\n",
    "print(a.center(80))\n",
    "print('\\n', df_apple.head(3))\n",
    "print('\\n',\"rows and columns\", df_apple.shape)\n",
    "print(2*'\\n')\n",
    "g = \"GOOGLE\"\n",
    "print(g.center(80))\n",
    "print('\\n',df_google.head(3))\n",
    "print('\\n',\"rows and columns\", df_google.shape)"
   ]
  },
  {
   "cell_type": "markdown",
   "id": "ed92e412",
   "metadata": {},
   "source": [
    "Based on review of the documentation for the Apple file (https://www.kaggle.com/datasets/ramamet4/app-store-apple-data-set-10k-apps) and the Google file (https://www.kaggle.com/datasets/lava18/google-play-store-apps) the following column headings may\n",
    "be useful for the analysis:<br><br>\n",
    "<b>APPLE</b><br>\n",
    "\n",
    "- ratings_count_ver: Number of user ratings for current version of app\n",
    "- user_rating_ver: Average user rating for current version of app\n",
    "- prime_genre: Primary genre of the app\n",
    "\n",
    "<b>GOOGLE</b><br>\n",
    "\n",
    "- Category\n",
    "- Reviews\n",
    "- Installs\n",
    "- Genres\n"
   ]
  },
  {
   "cell_type": "markdown",
   "id": "60745b25",
   "metadata": {},
   "source": [
    "### <center>DATA CLEANING</center>"
   ]
  },
  {
   "cell_type": "code",
   "execution_count": 3,
   "id": "56f2b1e9",
   "metadata": {},
   "outputs": [
    {
     "data": {
      "text/plain": [
       "App               Life Made WI-Fi Touchscreen Photo Frame\n",
       "Category                                              1.9\n",
       "Rating                                               19.0\n",
       "Reviews                                              3.0M\n",
       "Size                                               1,000+\n",
       "Installs                                             Free\n",
       "Type                                                    0\n",
       "Price                                            Everyone\n",
       "Content Rating                                        NaN\n",
       "Genres                                  February 11, 2018\n",
       "Last Updated                                       1.0.19\n",
       "Current Ver                                    4.0 and up\n",
       "Android Ver                                           NaN\n",
       "Name: 10472, dtype: object"
      ]
     },
     "execution_count": 3,
     "metadata": {},
     "output_type": "execute_result"
    }
   ],
   "source": [
    "#Per documentation, google row id 10472 is incorrect.  Check this row\n",
    "df_google.loc[10472]"
   ]
  },
  {
   "cell_type": "code",
   "execution_count": 4,
   "id": "59354131",
   "metadata": {},
   "outputs": [],
   "source": [
    "#Per project instructions, delete row 10472. Comment out after executing to avoid deleting another row\n",
    "\n",
    "df_google = df_google.drop(labels = 10472, axis=0)\n",
    "\n",
    "#verified row index 10472 has been removed"
   ]
  },
  {
   "cell_type": "markdown",
   "id": "3d5a99bd",
   "metadata": {},
   "source": [
    "Remove duplicate entries using the pandas code in the next two Notebook boxes.  Duplicates are determined\n",
    "by duplicate \"track_name\" in the Apple set, and \"App\" in the Google set.  Kept the entry that contained the\n",
    "most rating reviews, under the assumption that the highest review total is the most recent version of the app."
   ]
  },
  {
   "cell_type": "code",
   "execution_count": 5,
   "id": "dcd0be2e",
   "metadata": {},
   "outputs": [
    {
     "name": "stdout",
     "output_type": "stream",
     "text": [
      "(7195, 16)\n"
     ]
    }
   ],
   "source": [
    "#remove duplicate rows Apple\n",
    "df_apple = df_apple.sort_values(by= \"rating_count_tot\", ascending=False)\n",
    "df_apple = df_apple.drop_duplicates(subset = \"track_name\",keep = \"first\")\n",
    "print(df_apple.shape)"
   ]
  },
  {
   "cell_type": "code",
   "execution_count": 6,
   "id": "6782b58e",
   "metadata": {},
   "outputs": [
    {
     "name": "stdout",
     "output_type": "stream",
     "text": [
      "(9659, 13)\n"
     ]
    }
   ],
   "source": [
    "#remove duplicate rows Google\n",
    "df_google = df_google.sort_values(by= \"Reviews\", ascending=False)\n",
    "df_google = df_google.drop_duplicates(subset = \"App\",keep = \"first\")\n",
    "print(df_google.shape)"
   ]
  },
  {
   "cell_type": "markdown",
   "id": "bee79cd9",
   "metadata": {},
   "source": [
    "Next we'll remove non English apps.  if a column \"App\"(Apple) or \"track_name\" (Google) has an entry\n",
    "containing a 3 or more ASCII characters with character value > 127, we'll assume this entry is non English and remove."
   ]
  },
  {
   "cell_type": "code",
   "execution_count": 7,
   "id": "1e9ccda0",
   "metadata": {},
   "outputs": [],
   "source": [
    "df_apple = df_apple.drop(df_apple.loc[df_apple[\"track_name\"]\n",
    "           .apply(lambda x: False if len([i for i in x if ord(i) >127])<=3 else True)].index)   "
   ]
  },
  {
   "cell_type": "code",
   "execution_count": 8,
   "id": "76424d92",
   "metadata": {},
   "outputs": [],
   "source": [
    "df_google = df_google.drop(df_google.loc[df_google[\"App\"]\n",
    "            .apply(lambda x: False if len([i for i in x if ord(i) >127])<=3 else True)].index)   "
   ]
  },
  {
   "cell_type": "markdown",
   "id": "0381366b",
   "metadata": {},
   "source": [
    "Next isolate the free apps. First get the unique values and data types in the price column, then use that information to drop the non free apps."
   ]
  },
  {
   "cell_type": "code",
   "execution_count": 9,
   "id": "905e19f6",
   "metadata": {},
   "outputs": [
    {
     "name": "stdout",
     "output_type": "stream",
     "text": [
      "[  0.     1.99   0.99   6.99   2.99   7.99   4.99   9.99   3.99   8.99\n",
      "   5.99  14.99  13.99  19.99  17.99  15.99  24.99  20.99  29.99  12.99\n",
      "  39.99  74.99  16.99 249.99  11.99  27.99  49.99  59.99  22.99  18.99\n",
      "  99.99  21.99  34.99 299.99]\n",
      "float64\n"
     ]
    }
   ],
   "source": [
    "#Apple prices and the column data type\n",
    "print(df_apple[\"price\"].unique())\n",
    "print(df_apple[\"price\"].dtypes)"
   ]
  },
  {
   "cell_type": "code",
   "execution_count": 10,
   "id": "68b174f8",
   "metadata": {},
   "outputs": [
    {
     "name": "stdout",
     "output_type": "stream",
     "text": [
      "['0' '$2.49' '$2.99' '$0.99' '$3.99' '$4.99' '$399.99' '$1.99' '$79.99'\n",
      " '$7.49' '$4.49' '$9.99' '$5.99' '$13.99' '$4.29' '$1.70' '$14.99'\n",
      " '$12.99' '$1.49' '$19.99' '$1.50' '$3.49' '$1.29' '$7.99' '$29.99'\n",
      " '$1.59' '$11.99' '$89.99' '$39.99' '$3.02' '$6.99' '$2.90' '$1.00'\n",
      " '$19.40' '$5.49' '$5.00' '$1.75' '$8.99' '$3.08' '$18.99' '$299.99'\n",
      " '$17.99' '$379.99' '$8.49' '$2.56' '$15.46' '$2.95' '$1.97' '$19.90'\n",
      " '$24.99' '$2.60' '$4.80' '$1.26' '$4.77' '$400.00' '$16.99' '$10.99'\n",
      " '$4.59' '$389.99' '$33.99' '$46.99' '$1.76' '$3.90' '$2.00' '$2.50'\n",
      " '$10.00' '$14.00' '$3.95' '$6.49' '$3.28' '$1.20' '$2.59' '$4.84'\n",
      " '$37.99' '$1.61' '$4.60' '$9.00' '$15.99' '$3.88' '$74.99' '$3.04'\n",
      " '$4.85' '$154.99' '$1.04' '$25.99' '$1.96' '$28.99' '$109.99' '$200.00'\n",
      " '$30.99' '$3.61' '$394.99']\n",
      "object\n"
     ]
    }
   ],
   "source": [
    "#Google prices and the column data type\n",
    "print(df_google[\"Price\"].unique())\n",
    "print(df_google[\"Price\"].dtypes)"
   ]
  },
  {
   "cell_type": "code",
   "execution_count": 11,
   "id": "081e4e9c",
   "metadata": {},
   "outputs": [],
   "source": [
    "#Keep only the free Apple apps\n",
    "df_apple = df_apple.drop(df_apple.loc[df_apple[\"price\"]\n",
    "            .apply(lambda x: False if x == 0 else True)].index)"
   ]
  },
  {
   "cell_type": "code",
   "execution_count": 12,
   "id": "35848e3e",
   "metadata": {},
   "outputs": [],
   "source": [
    "#Keep only the free Google apps\n",
    "df_google = df_google.drop(df_google.loc[df_google[\"Price\"]\n",
    "            .apply(lambda x: False if x == '0' else True)].index)"
   ]
  },
  {
   "cell_type": "code",
   "execution_count": 13,
   "id": "292800be",
   "metadata": {},
   "outputs": [
    {
     "name": "stdout",
     "output_type": "stream",
     "text": [
      "['0']\n"
     ]
    }
   ],
   "source": [
    "#check that only free Google apps left\n",
    "print(df_google[\"Price\"].unique())"
   ]
  },
  {
   "cell_type": "code",
   "execution_count": 14,
   "id": "ee1d0565",
   "metadata": {},
   "outputs": [
    {
     "name": "stdout",
     "output_type": "stream",
     "text": [
      "[0.]\n"
     ]
    }
   ],
   "source": [
    "#check that only free Apple apps left\n",
    "print(df_apple[\"price\"].unique())"
   ]
  },
  {
   "cell_type": "markdown",
   "id": "b3044928",
   "metadata": {},
   "source": [
    "### <center>DATA ANALYSIS</center>"
   ]
  },
  {
   "cell_type": "markdown",
   "id": "8336222b",
   "metadata": {},
   "source": [
    "Determine the counts  and percentage of total for the types of apps in the datasets "
   ]
  },
  {
   "cell_type": "code",
   "execution_count": 15,
   "id": "9a6a802e",
   "metadata": {},
   "outputs": [
    {
     "name": "stdout",
     "output_type": "stream",
     "text": [
      "                   App_count  %_of_total\n",
      "Games                   1872        58.1\n",
      "Entertainment            254         7.9\n",
      "Photo & Video            160         5.0\n",
      "Education                118         3.7\n",
      "Social Networking        106         3.3\n"
     ]
    }
   ],
   "source": [
    "#Apple app type count and % of total\n",
    "apple_count = pd.DataFrame(df_apple[\"prime_genre\"].value_counts()).rename(columns = {\"prime_genre\": \"App_count\"})\n",
    "apple_count[\"%_of_total\"] = (apple_count/apple_count.sum()*100).round(decimals=1)\n",
    "print(apple_count.head())"
   ]
  },
  {
   "cell_type": "code",
   "execution_count": 16,
   "id": "0868ecd2",
   "metadata": {},
   "outputs": [
    {
     "name": "stdout",
     "output_type": "stream",
     "text": [
      "           App_count  %_of_total\n",
      "FAMILY          1679        18.9\n",
      "GAME             859         9.7\n",
      "TOOLS            749         8.5\n",
      "BUSINESS         407         4.6\n",
      "LIFESTYLE        346         3.9\n"
     ]
    }
   ],
   "source": [
    "#Google app type count and % of total\n",
    "google_count = pd.DataFrame(df_google[\"Category\"].value_counts()).rename(columns = {\"Category\": \"App_count\"})\n",
    "google_count[\"%_of_total\"] = (google_count/google_count.sum()*100).round(decimals=1)\n",
    "print(google_count.head())"
   ]
  },
  {
   "cell_type": "markdown",
   "id": "84616a71",
   "metadata": {},
   "source": [
    "For Apple apps the Games genre dominates, with 58% of the total apps.  Next closest is Family with 8% of the total.\n",
    "For Google, Family is the largest, with 19% of the total apps.  Games comes next with 9.7%.\n",
    "\n",
    "This only gives the number of apps in the categories; we still need an indication of how popular the apps are.  Google provide number of installs, but only by category (100+, 10,000+, etc.)  Apple does not provide number of installs.  We'll use number of reviews as a proxy for number of installs.  For Google we'll use the numeric portion of the number of installs to estimate the value."
   ]
  },
  {
   "cell_type": "code",
   "execution_count": 17,
   "id": "ad49e53f",
   "metadata": {},
   "outputs": [
    {
     "name": "stdout",
     "output_type": "stream",
     "text": [
      "                   App_count  %_of_total  total # of reviews\n",
      "Games                   1872        58.1            42705795\n",
      "Social Networking        106         3.3             7584125\n",
      "Photo & Video            160         5.0             4550647\n",
      "Music                     66         2.0             3783551\n",
      "Entertainment            254         7.9             3563577\n",
      "Shopping                  84         2.6             2261254\n",
      "Sports                    69         2.1             1587614\n",
      "Health & Fitness          65         2.0             1514371\n",
      "Utilities                 81         2.5             1513441\n",
      "Weather                   28         0.9             1463837\n"
     ]
    }
   ],
   "source": [
    "apple_count[\"total # of reviews\"] = df_apple.groupby(by=\"prime_genre\")[\"rating_count_tot\"].sum()\n",
    "print(apple_count.sort_values(by=\"total # of reviews\", ascending = False).head(10))"
   ]
  },
  {
   "cell_type": "code",
   "execution_count": 18,
   "id": "5671ecaa",
   "metadata": {},
   "outputs": [
    {
     "name": "stdout",
     "output_type": "stream",
     "text": [
      "                    App_count  %_of_total  total # of installs\n",
      "GAME                      859    9.70E+00             1.34E+10\n",
      "COMMUNICATION             287    3.20E+00             1.10E+10\n",
      "TOOLS                     749    8.50E+00             8.00E+09\n",
      "FAMILY                   1679    1.89E+01             6.20E+09\n",
      "PRODUCTIVITY              345    3.90E+00             5.79E+09\n",
      "SOCIAL                    236    2.70E+00             5.49E+09\n",
      "PHOTOGRAPHY               261    2.90E+00             4.65E+09\n",
      "VIDEO_PLAYERS             159    1.80E+00             3.93E+09\n",
      "TRAVEL_AND_LOCAL          207    2.30E+00             2.89E+09\n",
      "NEWS_AND_MAGAZINES        248    2.80E+00             2.37E+09\n"
     ]
    },
    {
     "name": "stderr",
     "output_type": "stream",
     "text": [
      "C:\\Users\\drrdm\\AppData\\Local\\Temp\\ipykernel_11864\\2209650973.py:1: FutureWarning: The default value of regex will change from True to False in a future version.\n",
      "  df_google[\"Installs\"]= df_google[\"Installs\"].str.replace(\"[+,]\",\"\").astype(int)\n"
     ]
    }
   ],
   "source": [
    "df_google[\"Installs\"]= df_google[\"Installs\"].str.replace(\"[+,]\",\"\").astype(int)\n",
    "google_count[\"total # of installs\"] = df_google.groupby(by=\"Category\")[\"Installs\"].sum()\n",
    "pd.set_option('display.float_format', '{:.2E}'.format)\n",
    "print((google_count.sort_values(by=\"total # of installs\", ascending = False)).head(10))"
   ]
  },
  {
   "cell_type": "markdown",
   "id": "52d12989",
   "metadata": {},
   "source": [
    "### <center>DISCUSSION & CONCLUSION</center>"
   ]
  },
  {
   "cell_type": "markdown",
   "id": "b6b290a8",
   "metadata": {},
   "source": [
    "Games dominates the app count and # of reviews for the Apple store.  GAME is the 2nd highest percentage of app total and has the highest total number of installs on Google. This is a popular but crowded market where it may be difficult to gain any market share.\n",
    "\n",
    "Social networking has the 2nd highest number of reviews in the Apple store but is fourth in app count.  Social networking is popular but is much less crowded than Games.\n",
    "\n",
    "COMMUNICATION is the second most installed app type with Google, ranking fifith in app count. SOCIAL ranks seventh in app count and ranks sixth in installs.\n",
    "\n",
    "Based on this analysis, a social networking app which allows communication between individuals and groups may be our best opportunity.  Further analysis of demographics being served by current social networking apps may guide us to an underserved market, increasing the probability of success."
   ]
  },
  {
   "cell_type": "code",
   "execution_count": null,
   "id": "ca573e05",
   "metadata": {},
   "outputs": [],
   "source": []
  }
 ],
 "metadata": {
  "kernelspec": {
   "display_name": "Python 3 (ipykernel)",
   "language": "python",
   "name": "python3"
  },
  "language_info": {
   "codemirror_mode": {
    "name": "ipython",
    "version": 3
   },
   "file_extension": ".py",
   "mimetype": "text/x-python",
   "name": "python",
   "nbconvert_exporter": "python",
   "pygments_lexer": "ipython3",
   "version": "3.9.13"
  }
 },
 "nbformat": 4,
 "nbformat_minor": 5
}
